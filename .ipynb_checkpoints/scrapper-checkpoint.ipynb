{
 "cells": [
  {
   "cell_type": "markdown",
   "metadata": {},
   "source": [
    "# We scrapping tool for getting the lyrics from all Bob Dylan songs"
   ]
  },
  {
   "cell_type": "code",
   "execution_count": 1,
   "metadata": {
    "collapsed": false
   },
   "outputs": [],
   "source": [
    "import numpy as np\n",
    "import urllib\n",
    "import pandas as pd\n",
    "import re\n",
    "import lxml.html\n",
    "import unicodedata\n",
    "import os"
   ]
  },
  {
   "cell_type": "markdown",
   "metadata": {},
   "source": [
    "We get from Wikipedia a table with all Bob Dylan's songs:"
   ]
  },
  {
   "cell_type": "code",
   "execution_count": 2,
   "metadata": {
    "collapsed": false
   },
   "outputs": [],
   "source": [
    "urlt = r'https://en.wikipedia.org/wiki/List_of_songs_written_by_Bob_Dylan'\n",
    "tabele = pd.read_html(urlt, header=0)\n",
    "df = tabele[0]\n"
   ]
  },
  {
   "cell_type": "markdown",
   "metadata": {},
   "source": [
    "The dataframe looks like this:"
   ]
  },
  {
   "cell_type": "code",
   "execution_count": 3,
   "metadata": {
    "collapsed": false
   },
   "outputs": [
    {
     "data": {
      "text/html": [
       "<div>\n",
       "<table border=\"1\" class=\"dataframe\">\n",
       "  <thead>\n",
       "    <tr style=\"text-align: right;\">\n",
       "      <th></th>\n",
       "      <th>Recorded</th>\n",
       "      <th>Song title</th>\n",
       "      <th>Writer(s)</th>\n",
       "      <th>(First) Album release</th>\n",
       "      <th>Released</th>\n",
       "      <th>Notes</th>\n",
       "      <th>Unnamed: 6</th>\n",
       "    </tr>\n",
       "  </thead>\n",
       "  <tbody>\n",
       "    <tr>\n",
       "      <th>0</th>\n",
       "      <td>1990</td>\n",
       "      <td>10,000 Men</td>\n",
       "      <td>Dylan</td>\n",
       "      <td>Under the Red Sky</td>\n",
       "      <td>1990</td>\n",
       "      <td>NaN</td>\n",
       "      <td>NaN</td>\n",
       "    </tr>\n",
       "    <tr>\n",
       "      <th>1</th>\n",
       "      <td>1990</td>\n",
       "      <td>2 X 2</td>\n",
       "      <td>Dylan</td>\n",
       "      <td>Under the Red Sky</td>\n",
       "      <td>1990</td>\n",
       "      <td>NaN</td>\n",
       "      <td>NaN</td>\n",
       "    </tr>\n",
       "    <tr>\n",
       "      <th>2</th>\n",
       "      <td>1966</td>\n",
       "      <td>4th Time Around</td>\n",
       "      <td>Dylan</td>\n",
       "      <td>Blonde on Blonde</td>\n",
       "      <td>1966</td>\n",
       "      <td>NaN</td>\n",
       "      <td>NaN</td>\n",
       "    </tr>\n",
       "    <tr>\n",
       "      <th>3</th>\n",
       "      <td>1990</td>\n",
       "      <td>7 Deadly Sins</td>\n",
       "      <td>Dylan, Jeff Lynne, Tom Petty, George Harrison</td>\n",
       "      <td>Traveling Wilburys Vol. 3</td>\n",
       "      <td>1990</td>\n",
       "      <td>[1]</td>\n",
       "      <td>NaN</td>\n",
       "    </tr>\n",
       "    <tr>\n",
       "      <th>4</th>\n",
       "      <td>1974</td>\n",
       "      <td>Abandoned Love</td>\n",
       "      <td>Dylan</td>\n",
       "      <td>Biograph</td>\n",
       "      <td>1985</td>\n",
       "      <td>NaN</td>\n",
       "      <td>NaN</td>\n",
       "    </tr>\n",
       "  </tbody>\n",
       "</table>\n",
       "</div>"
      ],
      "text/plain": [
       "  Recorded       Song title                                      Writer(s)  \\\n",
       "0     1990       10,000 Men                                          Dylan   \n",
       "1     1990            2 X 2                                          Dylan   \n",
       "2     1966  4th Time Around                                          Dylan   \n",
       "3     1990    7 Deadly Sins  Dylan, Jeff Lynne, Tom Petty, George Harrison   \n",
       "4     1974   Abandoned Love                                          Dylan   \n",
       "\n",
       "       (First) Album release Released Notes  Unnamed: 6  \n",
       "0          Under the Red Sky     1990   NaN         NaN  \n",
       "1          Under the Red Sky     1990   NaN         NaN  \n",
       "2           Blonde on Blonde     1966   NaN         NaN  \n",
       "3  Traveling Wilburys Vol. 3     1990   [1]         NaN  \n",
       "4                   Biograph     1985   NaN         NaN  "
      ]
     },
     "execution_count": 3,
     "metadata": {},
     "output_type": "execute_result"
    }
   ],
   "source": [
    "df.head()"
   ]
  },
  {
   "cell_type": "markdown",
   "metadata": {},
   "source": [
    "523 songs seem to be pretty good, we can work with them"
   ]
  },
  {
   "cell_type": "code",
   "execution_count": 4,
   "metadata": {
    "collapsed": false
   },
   "outputs": [
    {
     "data": {
      "text/plain": [
       "523"
      ]
     },
     "execution_count": 4,
     "metadata": {},
     "output_type": "execute_result"
    }
   ],
   "source": [
    "len(df)"
   ]
  },
  {
   "cell_type": "code",
   "execution_count": 5,
   "metadata": {
    "collapsed": true
   },
   "outputs": [],
   "source": [
    "cantece = df['Song title'].tolist()"
   ]
  },
  {
   "cell_type": "markdown",
   "metadata": {},
   "source": [
    "The class Song is taken from [Sebastian Raschka's github](https://github.com/rasbt/datacollect/tree/master/collect_lyrics)"
   ]
  },
  {
   "cell_type": "code",
   "execution_count": 6,
   "metadata": {
    "collapsed": true
   },
   "outputs": [],
   "source": [
    "class Song(object):\n",
    "    def __init__(self, artist, title):\n",
    "        self.artist = self.__format_str(artist)\n",
    "        self.title = self.__format_str(title)\n",
    "        self.url = None\n",
    "        self.lyric = None\n",
    "\n",
    "    def __format_str(self, s):\n",
    "        # remove paranthesis and contents\n",
    "        s = s.strip()\n",
    "        try:\n",
    "            # strip accent\n",
    "            s = ''.join(c for c in unicodedata.normalize('NFD', s)\n",
    "                         if unicodedata.category(c) != 'Mn')\n",
    "        except:\n",
    "            pass\n",
    "        s = s.title()\n",
    "        return s\n",
    "\n",
    "    def __quote(self, s):\n",
    "         return urllib.parse.quote(s.replace(' ', '_'))\n",
    "\n",
    "    def __make_url(self):\n",
    "        artist = self.__quote(self.artist)\n",
    "        title = self.__quote(self.title)\n",
    "        artist_title = '%s:%s' %(artist, title)\n",
    "        url = 'http://lyrics.wikia.com/' + artist_title\n",
    "        self.url = url\n",
    "\n",
    "    def update(self, artist=None, title=None):\n",
    "        if artist:\n",
    "            self.artist = self.__format_str(artist)\n",
    "        if title:\n",
    "            self.title = self.__format_str(title)\n",
    "\n",
    "    def lyricwikia(self):\n",
    "        self.__make_url()\n",
    "        try:\n",
    "            doc = lxml.html.parse(self.url)\n",
    "            lyricbox = doc.getroot().cssselect('.lyricbox')[0]\n",
    "        except IOError:\n",
    "            self.lyric = ''\n",
    "            return\n",
    "        lyrics = []\n",
    "\n",
    "        for node in lyricbox:\n",
    "            if node.tag == 'br':\n",
    "                lyrics.append('\\n')\n",
    "            if node.tail is not None:\n",
    "                lyrics.append(node.tail)\n",
    "        self.lyric =  \"\".join(lyrics).strip()    \n",
    "        return self.lyric"
   ]
  },
  {
   "cell_type": "markdown",
   "metadata": {},
   "source": [
    "We have all his song titles into a list called __cantece__. We are now able to get each of these songs lyrics and write them into a text file called _dylansongs.txt_"
   ]
  },
  {
   "cell_type": "code",
   "execution_count": 14,
   "metadata": {
    "collapsed": false
   },
   "outputs": [],
   "source": [
    "f = open('dylansongs.txt','w')\n",
    "for cantec in cantece:\n",
    "    try:\n",
    "        song = Song(artist='Bob Dylan', title=cantec)\n",
    "        lyr = song.lyricwikia()\n",
    "    except:\n",
    "        lyr = 'lupa'\n",
    "        \n",
    "  \n",
    "    f.write(str(lyr))\n",
    "    f.write('/n')\n",
    "f.close()"
   ]
  },
  {
   "cell_type": "code",
   "execution_count": 10,
   "metadata": {
    "collapsed": false
   },
   "outputs": [
    {
     "name": "stdout",
     "output_type": "stream",
     "text": [
      "['10,000 Men', '2 X 2', '4th Time Around', '7 Deadly Sins', 'Abandoned Love']\n"
     ]
    }
   ],
   "source": [
    "print(cantece[:5])"
   ]
  },
  {
   "cell_type": "code",
   "execution_count": null,
   "metadata": {
    "collapsed": true
   },
   "outputs": [],
   "source": []
  }
 ],
 "metadata": {
  "kernelspec": {
   "display_name": "Python 3",
   "language": "python",
   "name": "python3"
  },
  "language_info": {
   "codemirror_mode": {
    "name": "ipython",
    "version": 3
   },
   "file_extension": ".py",
   "mimetype": "text/x-python",
   "name": "python",
   "nbconvert_exporter": "python",
   "pygments_lexer": "ipython3",
   "version": "3.6.0"
  }
 },
 "nbformat": 4,
 "nbformat_minor": 2
}
